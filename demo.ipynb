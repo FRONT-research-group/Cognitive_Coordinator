{
 "cells": [
  {
   "cell_type": "markdown",
   "metadata": {},
   "source": [
    "# Model initialization and definition of helpers function"
   ]
  },
  {
   "cell_type": "code",
   "execution_count": 4,
   "metadata": {},
   "outputs": [
    {
     "name": "stderr",
     "output_type": "stream",
     "text": [
      "/home/ilias/Desktop/safe-6g/Cognitive/Code/repo/Cognitive_Coordinator/venv/lib/python3.10/site-packages/tqdm/auto.py:21: TqdmWarning: IProgress not found. Please update jupyter and ipywidgets. See https://ipywidgets.readthedocs.io/en/stable/user_install.html\n",
      "  from .autonotebook import tqdm as notebook_tqdm\n",
      "/tmp/ipykernel_1404417/3205139007.py:13: FutureWarning: You are using `torch.load` with `weights_only=False` (the current default value), which uses the default pickle module implicitly. It is possible to construct malicious pickle data which will execute arbitrary code during unpickling (See https://github.com/pytorch/pytorch/blob/main/SECURITY.md#untrusted-models for more details). In a future release, the default value for `weights_only` will be flipped to `True`. This limits the functions that could be executed during unpickling. Arbitrary objects will no longer be allowed to be loaded via this mode unless they are explicitly allowlisted by the user via `torch.serialization.add_safe_globals`. We recommend you start setting `weights_only=True` for any use case where you don't have full control of the loaded file. Please open an issue on GitHub for any issues related to this experimental feature.\n",
      "  model.load_state_dict(torch.load(checkpoint_path))\n"
     ]
    }
   ],
   "source": [
    "import torch\n",
    "from transformers import BertTokenizer\n",
    "from models import BERTForQuantification\n",
    "\n",
    "def load_model(checkpoint_path, device):\n",
    "    \"\"\"\n",
    "    Loads the fine-tuned model from a saved checkpoint.\n",
    "    \"\"\"\n",
    "    # Initialize the model architecture\n",
    "    model = BERTForQuantification()\n",
    "\n",
    "    # Load the trained weights directly\n",
    "    model.load_state_dict(torch.load(checkpoint_path))\n",
    "\n",
    "    # Set the model to evaluation mode\n",
    "    model.eval()\n",
    "    \n",
    "    model.to(device)\n",
    "\n",
    "    return model\n",
    "\n",
    "def tokenize_input(text, tokenizer, max_len=128):\n",
    "    tokens = tokenizer(text, padding='max_length', max_length=max_len, truncation=True, return_tensors=\"pt\")\n",
    "    return tokens['input_ids'], tokens['attention_mask']\n",
    "\n",
    "def inference(text, class_type, model, tokenizer, device):\n",
    "    input_ids, attention_mask = tokenize_input(text, tokenizer)\n",
    "    input_ids = input_ids.to(device)\n",
    "    attention_mask = attention_mask.to(device)\n",
    "\n",
    "    with torch.no_grad():\n",
    "        score = model(input_ids, attention_mask, class_type)\n",
    "    return score.item() * 100\n",
    "\n",
    "\n",
    "tokenizer = BertTokenizer.from_pretrained('bert-base-uncased')\n",
    "device = torch.device(\"cuda\" if torch.cuda.is_available() else \"cpu\")\n",
    "model = load_model('trained_models/final_bert_model.pth', device)"
   ]
  },
  {
   "cell_type": "markdown",
   "metadata": {},
   "source": [
    "# Safety"
   ]
  },
  {
   "cell_type": "code",
   "execution_count": 5,
   "metadata": {},
   "outputs": [
    {
     "name": "stdout",
     "output_type": "stream",
     "text": [
      "Safety Score: 37.59\n",
      "Safety Score: 47.57\n"
     ]
    }
   ],
   "source": [
    "input_text = \"Can you fulfil my need for basic authorization?\"\n",
    "safety_score1 = inference(input_text, \"Safety\", model, tokenizer, device)\n",
    "print(f\"Safety Score: {round(safety_score1, 2)}\")\n",
    "\n",
    "\n",
    "input_text = \"My application has a requirement for zero-trust authorization\"\n",
    "safety_score2 = inference(input_text, \"Safety\", model, tokenizer, device)\n",
    "print(f\"Safety Score: {round(safety_score2, 2)}\")"
   ]
  },
  {
   "cell_type": "markdown",
   "metadata": {},
   "source": [
    "# Security"
   ]
  },
  {
   "cell_type": "code",
   "execution_count": 6,
   "metadata": {},
   "outputs": [
    {
     "name": "stdout",
     "output_type": "stream",
     "text": [
      "Security Score: 69.18\n",
      "Security Score: 76.99\n"
     ]
    }
   ],
   "source": [
    "input_text = \"I am scared of phishing attacks\"\n",
    "security_score1 = inference(input_text, \"Security\", model, tokenizer, device)\n",
    "print(f\"Security Score: {round(security_score1, 2)}\")\n",
    "\n",
    "\n",
    "input_text = \"Protect me from data breaches\"\n",
    "security_score2 = inference(input_text, \"Security\", model, tokenizer, device)\n",
    "print(f\"Security Score: {round(security_score2, 2)}\")"
   ]
  },
  {
   "cell_type": "markdown",
   "metadata": {},
   "source": [
    "# Privacy"
   ]
  },
  {
   "cell_type": "code",
   "execution_count": 7,
   "metadata": {},
   "outputs": [
    {
     "name": "stdout",
     "output_type": "stream",
     "text": [
      "Privacy Score: 30.82\n",
      "Privacy Score: 40.57\n"
     ]
    }
   ],
   "source": [
    "input_text = \"I care about my login data\"\n",
    "privacy_score1 = inference(input_text, \"Privacy\", model, tokenizer, device)\n",
    "print(f\"Privacy Score: {round(privacy_score1, 2)}\")\n",
    "\n",
    "\n",
    "input_text = \"I care about my login data and my browser history\"\n",
    "privacy_score2 = inference(input_text, \"Privacy\", model, tokenizer, device)\n",
    "print(f\"Privacy Score: {round(privacy_score2, 2)}\")"
   ]
  },
  {
   "cell_type": "markdown",
   "metadata": {},
   "source": [
    "# Reliability"
   ]
  },
  {
   "cell_type": "code",
   "execution_count": 9,
   "metadata": {},
   "outputs": [
    {
     "name": "stdout",
     "output_type": "stream",
     "text": [
      "Reliability Score: 45.73\n",
      "Reliability Score: 60.62\n"
     ]
    }
   ],
   "source": [
    "input_text = \"I want my application to be reliable\"\n",
    "reliability_score1 = inference(input_text, \"Reliability\", model, tokenizer, device)\n",
    "print(f\"Reliability Score: {round(reliability_score1, 2)}\")\n",
    "\n",
    "\n",
    "input_text = \"My application will use DNNs (Deep Neural Networks).\"\n",
    "reliability_score2 = inference(input_text, \"Reliability\", model, tokenizer, device)\n",
    "print(f\"Reliability Score: {round(reliability_score2, 2)}\")"
   ]
  },
  {
   "cell_type": "markdown",
   "metadata": {},
   "source": [
    "# Resilience"
   ]
  },
  {
   "cell_type": "code",
   "execution_count": 10,
   "metadata": {},
   "outputs": [
    {
     "name": "stdout",
     "output_type": "stream",
     "text": [
      "Resilience Score: 55.96\n",
      "Resilience Score: 65.13\n"
     ]
    }
   ],
   "source": [
    "input_text = \"I care about connection's speed\"\n",
    "resilience_score1 = inference(input_text, \"Resilience\", model, tokenizer, device)\n",
    "print(f\"Resilience Score: {round(resilience_score1, 2)}\")\n",
    "\n",
    "\n",
    "input_text = \"Also, I want to restore the latest state of my app\"\n",
    "resilience_score2 = inference(input_text, \"Resilience\", model, tokenizer, device)\n",
    "print(f\"Resilience Score: {round(resilience_score2, 2)}\")"
   ]
  },
  {
   "cell_type": "markdown",
   "metadata": {},
   "source": [
    "# Overall non-calibrated LoTw"
   ]
  },
  {
   "cell_type": "code",
   "execution_count": 11,
   "metadata": {},
   "outputs": [
    {
     "name": "stdout",
     "output_type": "stream",
     "text": [
      "Safety score: 42.58\n",
      "Security score: 73.08\n",
      "Privacy score: 35.7\n",
      "Reliability score: 53.18\n",
      "Resilience score: 53.18\n",
      "First Trustworthiness score: 53.02\n"
     ]
    }
   ],
   "source": [
    "safety_score = round((safety_score1+safety_score2)/2, 2)\n",
    "\n",
    "security_score = round((security_score1+security_score2)/2, 2)\n",
    "\n",
    "privacy_score = round((privacy_score1+privacy_score2)/2, 2)\n",
    "\n",
    "reliability_score = round((reliability_score1+reliability_score2)/2, 2)\n",
    "\n",
    "resilience_score = round((resilience_score1+resilience_score2)/2, 2)\n",
    "\n",
    "scores = [safety_score, security_score, privacy_score, reliability_score, resilience_score]\n",
    "\n",
    "print(f\"Safety score: {safety_score}\")\n",
    "print(f\"Security score: {security_score}\")\n",
    "print(f\"Privacy score: {privacy_score}\")\n",
    "print(f\"Reliability score: {reliability_score}\")\n",
    "print(f\"Resilience score: {reliability_score}\")\n",
    "print(f\"First Trustworthiness score: {round((safety_score+security_score+privacy_score+reliability_score+resilience_score)/5,2)}\")"
   ]
  },
  {
   "cell_type": "markdown",
   "metadata": {},
   "source": [
    "# Callibration"
   ]
  },
  {
   "cell_type": "markdown",
   "metadata": {},
   "source": [
    "## Get all resources"
   ]
  },
  {
   "cell_type": "code",
   "execution_count": 12,
   "metadata": {},
   "outputs": [
    {
     "name": "stdout",
     "output_type": "stream",
     "text": [
      "Hostname: ncsrd-worker3, CPU: 1.80, Memory: 11.76Gi\n",
      "Hostname: ncsrd-worker, CPU: 2.85, Memory: 11.86Gi\n",
      "Hostname: ubuntu, CPU: 2.04, Memory: 10.34Gi\n",
      "Hostname: duzunidis-vm1, CPU: 7.68, Memory: 7.03Gi\n",
      "Hostname: duzunidis-vm3, CPU: 7.60, Memory: 9.71Gi\n",
      "Hostname: duzunidis-vm2, CPU: 7.84, Memory: 8.93Gi\n",
      "Hostname: cloud, CPU: 5.52, Memory: 25.06Gi\n",
      "Hostname: worker2, CPU: 3.80, Memory: 13.15Gi\n",
      "Hostname: worker1, CPU: 3.92, Memory: 6.27Gi\n",
      "Hostname: worker3, CPU: 3.96, Memory: 6.63Gi\n"
     ]
    }
   ],
   "source": [
    "from callibrate import *\n",
    "\n",
    "config_file = \"/home/ilias/Desktop/safe-6g/Cognitive/Code/repo/Cognitive_Coordinator/TF_Configuration_Files/reliability.yaml\"\n",
    "api_url = \"https://safe-6g-ncsrd.satrd.es/entities?type=InfrastructureElement&format=simplified\"\n",
    "token = \"eyJhbGciOiJSUzI1NiIsInR5cCIgOiAiSldUIiwia2lkIiA6ICJzaTcxSzNkUm11UFIxY2RhT2daNVFtbGpUVlR6U3JQM0cyYlZNdEVDeUVjIn0.eyJleHAiOjE4MDk0MjgwMDMsImlhdCI6MTcyMzExNDQwMywianRpIjoiMzI4OTdiMWEtNjFjMy00Yzk0LTkwN2QtZDg0Y2Y1NTQwOTNhIiwiaXNzIjoiaHR0cHM6Ly9rZXljbG9hay5jZi1tdnAtZG9tYWluLmFlcm9zLXByb2plY3QuZXUvYXV0aC9yZWFsbXMva2V5Y2xvYWNrLW9wZW5sZGFwIiwiYXVkIjoiYWNjb3VudCIsInN1YiI6IjU5MzMyMDg2LTA0YzgtNGFiZS1iY2JiLWEyZjMzMmM3M2FmYSIsInR5cCI6IkJlYXJlciIsImF6cCI6ImFlcm9zLXRlc3QiLCJzZXNzaW9uX3N0YXRlIjoiN2YyOWMyMzEtMWY2Zi00YzNkLThhMDEtMjVmZjVmMjMwNDA2IiwiYWNyIjoiMSIsInJlYWxtX2FjY2VzcyI6eyJyb2xlcyI6WyJDbG91ZEZlcnJvRG9tYWluIiwiZGVmYXVsdC1yb2xlcy1rZXljbG9hY2stb3BlbmxkYXAiLCJvZmZsaW5lX2FjY2VzcyIsInVtYV9hdXRob3JpemF0aW9uIiwiRG9tYWluIGFkbWluaXN0cmF0b3IiXX0sInJlc291cmNlX2FjY2VzcyI6eyJhY2NvdW50Ijp7InJvbGVzIjpbIm1hbmFnZS1hY2NvdW50IiwibWFuYWdlLWFjY291bnQtbGlua3MiLCJ2aWV3LXByb2ZpbGUiXX19LCJzY29wZSI6InByb2ZpbGUgZW1haWwiLCJzaWQiOiI3ZjI5YzIzMS0xZjZmLTRjM2QtOGEwMS0yNWZmNWYyMzA0MDYiLCJlbWFpbF92ZXJpZmllZCI6ZmFsc2UsIm5hbWUiOiJEb21haW4gYWRtaW5pc3RyYXRvciAxIEFkbWluIiwicHJlZmVycmVkX3VzZXJuYW1lIjoiZG9tYWluYWRtaW5pc3RyYXRvcjEiLCJnaXZlbl9uYW1lIjoiRG9tYWluIGFkbWluaXN0cmF0b3IgMSIsImZhbWlseV9uYW1lIjoiQWRtaW4ifQ.dF3CS5Wq23YB2sbc2-epH4QLhN9Y9JGuqW7aQ5x0mGgM4v_bkmycXnceuKohVxgSreSq5jJ-m7P38-HGfX0GoLDiSENqlw8SzMyKmjlFuu5rreXIbskI3GKqbfGog4ZR8ojTCCfbfwgdZsvc_XFZRnrsC_nFuHe2AiD3ypWPFnEY9edvzG-oWC414hvIHGLdVAXqLthWJe65s1QfOWrn70lvBuszHDg48iec_zv0Us5u8yeYXahO8Tf7FrQ4CgGuocS2vn55ENQgLDs03E01m6CWPlANhgJKEfziPGCxRuYKIDNZOrvhIF-ZsMEsrt95jg-qeskqkdA2dWzbJwM5Sw\"\n",
    "\n",
    "# Load configuration\n",
    "#config = load_config(config_file)\n",
    "prolog = load_prolog_knowledge(\"TF_Configuration_Files/reliability.pl\")\n",
    "\n",
    "# Fetch available resources\n",
    "resources = get_available_resources(api_url, token)\n",
    "\n",
    "# Print all available resources\n",
    "for resource in resources:\n",
    "    print(f\"Hostname: {resource['hostname']}, CPU: {resource['available_cpu']:.2f}, Memory: {resource['available_memory']}\")\n",
    "\n"
   ]
  },
  {
   "cell_type": "markdown",
   "metadata": {},
   "source": [
    "## Get best resource option"
   ]
  },
  {
   "cell_type": "code",
   "execution_count": 17,
   "metadata": {},
   "outputs": [
    {
     "name": "stdout",
     "output_type": "stream",
     "text": [
      "\n",
      "Using best resource: Hostname: duzunidis-vm2, CPU: 7.84, Memory: 8.93Gi\n"
     ]
    }
   ],
   "source": [
    "# Sort resources by available CPU and memory in descending order\n",
    "resources_sorted = sorted(\n",
    "    resources,\n",
    "    key=lambda r: (r['available_cpu'], float(r['available_memory'][:-2])),  # Convert memory to float for sorting\n",
    "    reverse=True\n",
    ")\n",
    "\n",
    "# Select the infrastructure element with the most free resources\n",
    "best_resource = resources_sorted[0]\n",
    "available_cpu = best_resource['available_cpu']\n",
    "available_memory = best_resource['available_memory']\n",
    "#available_memory = '600'\n",
    "print(f\"\\nUsing best resource: Hostname: {best_resource['hostname']}, CPU: {available_cpu:.2f}, Memory: {available_memory}\")\n"
   ]
  },
  {
   "cell_type": "markdown",
   "metadata": {},
   "source": [
    "## Callibrate the scores"
   ]
  },
  {
   "cell_type": "code",
   "execution_count": 18,
   "metadata": {},
   "outputs": [
    {
     "name": "stdout",
     "output_type": "stream",
     "text": [
      "Score: 42.58, Assigned Flavor: medium_reliability\n",
      "Score: 73.08, Assigned Flavor: medium_reliability\n",
      "Score: 35.7, Assigned Flavor: low_reliability\n",
      "Score: 53.18, Assigned Flavor: medium_reliability\n",
      "Score: 60.55, Assigned Flavor: medium_reliability\n"
     ]
    }
   ],
   "source": [
    "# Convert available_memory to MB once\n",
    "if available_memory.endswith('Gi'):\n",
    "    available_memory = float(available_memory.replace('Gi', '')) * 1024\n",
    "elif available_memory.endswith('Mi'):\n",
    "    available_memory = float(available_memory.replace('Mi', ''))\n",
    "\n",
    "# Process scores\n",
    "for score in scores:\n",
    "    flavor = get_flavor(prolog, score, available_cpu, available_memory)\n",
    "    print(f\"Score: {score}, Assigned Flavor: {flavor}\")"
   ]
  },
  {
   "cell_type": "code",
   "execution_count": null,
   "metadata": {},
   "outputs": [],
   "source": []
  }
 ],
 "metadata": {
  "kernelspec": {
   "display_name": "venv",
   "language": "python",
   "name": "python3"
  },
  "language_info": {
   "codemirror_mode": {
    "name": "ipython",
    "version": 3
   },
   "file_extension": ".py",
   "mimetype": "text/x-python",
   "name": "python",
   "nbconvert_exporter": "python",
   "pygments_lexer": "ipython3",
   "version": "3.10.12"
  }
 },
 "nbformat": 4,
 "nbformat_minor": 2
}
